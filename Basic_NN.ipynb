{
 "cells": [
  {
   "cell_type": "code",
   "execution_count": 1,
   "id": "5ffb16ac",
   "metadata": {},
   "outputs": [],
   "source": [
    "import torch\n",
    "import torch.nn as nn\n",
    "import torch.nn.functional as F\n",
    "from torch.autograd import Variable"
   ]
  },
  {
   "cell_type": "code",
   "execution_count": 2,
   "id": "ebf10311",
   "metadata": {},
   "outputs": [
    {
     "name": "stdout",
     "output_type": "stream",
     "text": [
      "Net(\n",
      "  (layer1): Linear(in_features=1, out_features=10, bias=True)\n",
      "  (layer2): Linear(in_features=10, out_features=10, bias=True)\n",
      "  (layer3): Linear(in_features=10, out_features=1, bias=True)\n",
      "  (relu): ReLU()\n",
      ")\n"
     ]
    }
   ],
   "source": [
    "class Net(nn.Module):\n",
    "    def __init__(self):\n",
    "        super(Net, self).__init__()\n",
    "        self.layer1 = torch.nn.Linear(1, 10)\n",
    "        self.layer2 = torch.nn.Linear(10, 10)\n",
    "        self.layer3 = torch.nn.Linear(10, 1)\n",
    "        \n",
    "        self.relu = nn.ReLU()\n",
    "\n",
    "    def forward(self, x):\n",
    "        x = self.layer1(x) #1 -> 10 in the middle\n",
    "        x = self.relu(x) #doing the activation on the hidden layer\n",
    "        x = self.layer2(x) # 10 -> 10\n",
    "        x = self.relu(x) #doing the activation on the hidden layer\n",
    "        x = self.layer3(x) # 10 -> 1\n",
    "        \n",
    "        return x\n",
    "\n",
    "net = Net()\n",
    "print(net)"
   ]
  },
  {
   "cell_type": "code",
   "execution_count": 8,
   "id": "07d621db",
   "metadata": {},
   "outputs": [
    {
     "data": {
      "image/png": "[encoded data removed]",
      "text/plain": [
       "<Figure size 432x288 with 1 Axes>"
      ]
     },
     "metadata": {
      "needs_background": "light"
     },
     "output_type": "display_data"
    }
   ],
   "source": [
    "# Visualize our data\n",
    "import matplotlib.pyplot as plt\n",
    "import numpy as np\n",
    "\n",
    "x = np.random.rand(100)\n",
    "y = np.sin(x) * np.power(x,3) + 3*x #+ np.random.rand(100)*0.8\n",
    "\n",
    "plt.scatter(x, y)\n",
    "plt.show()"
   ]
  },
  {
   "cell_type": "code",
   "execution_count": 9,
   "id": "4967d681",
   "metadata": {},
   "outputs": [],
   "source": [
    "# convert numpy array to tensor in shape of input size\n",
    "x = torch.from_numpy(x.reshape(-1,1)).float()\n",
    "y = torch.from_numpy(y.reshape(-1,1)).float()\n",
    "# print(x, y)"
   ]
  },
  {
   "cell_type": "code",
   "execution_count": 10,
   "id": "d08f8053",
   "metadata": {},
   "outputs": [],
   "source": [
    "# Define Optimizer and Loss Function\n",
    "optimizer = torch.optim.SGD(net.parameters(), lr=0.2)\n",
    "loss_func = torch.nn.MSELoss()"
   ]
  },
  {
   "cell_type": "code",
   "execution_count": 11,
   "id": "26497907",
   "metadata": {},
   "outputs": [
    {
     "name": "stdout",
     "output_type": "stream",
     "text": [
      "epoch =  0 : error =  tensor(1.8335, grad_fn=<MseLossBackward0>)\n",
      "epoch =  100 : error =  tensor(0.0957, grad_fn=<MseLossBackward0>)\n",
      "epoch =  200 : error =  tensor(0.0269, grad_fn=<MseLossBackward0>)\n",
      "epoch =  300 : error =  tensor(0.0219, grad_fn=<MseLossBackward0>)\n",
      "epoch =  400 : error =  tensor(0.0175, grad_fn=<MseLossBackward0>)\n",
      "epoch =  500 : error =  tensor(0.0070, grad_fn=<MseLossBackward0>)\n",
      "epoch =  600 : error =  tensor(0.0061, grad_fn=<MseLossBackward0>)\n",
      "epoch =  700 : error =  tensor(0.0041, grad_fn=<MseLossBackward0>)\n",
      "epoch =  800 : error =  tensor(0.0050, grad_fn=<MseLossBackward0>)\n",
      "epoch =  900 : error =  tensor(0.0040, grad_fn=<MseLossBackward0>)\n",
      "epoch =  1000 : error =  tensor(0.0038, grad_fn=<MseLossBackward0>)\n",
      "epoch =  1100 : error =  tensor(0.0035, grad_fn=<MseLossBackward0>)\n",
      "epoch =  1200 : error =  tensor(0.0034, grad_fn=<MseLossBackward0>)\n",
      "epoch =  1300 : error =  tensor(0.0028, grad_fn=<MseLossBackward0>)\n",
      "epoch =  1400 : error =  tensor(0.0028, grad_fn=<MseLossBackward0>)\n",
      "epoch =  1500 : error =  tensor(0.0025, grad_fn=<MseLossBackward0>)\n",
      "epoch =  1600 : error =  tensor(0.0024, grad_fn=<MseLossBackward0>)\n",
      "epoch =  1700 : error =  tensor(0.0023, grad_fn=<MseLossBackward0>)\n",
      "epoch =  1800 : error =  tensor(0.0024, grad_fn=<MseLossBackward0>)\n",
      "epoch =  1900 : error =  tensor(0.0019, grad_fn=<MseLossBackward0>)\n",
      "epoch =  2000 : error =  tensor(0.0030, grad_fn=<MseLossBackward0>)\n",
      "epoch =  2100 : error =  tensor(0.0019, grad_fn=<MseLossBackward0>)\n",
      "epoch =  2200 : error =  tensor(0.0024, grad_fn=<MseLossBackward0>)\n",
      "epoch =  2300 : error =  tensor(0.0030, grad_fn=<MseLossBackward0>)\n",
      "epoch =  2400 : error =  tensor(0.0021, grad_fn=<MseLossBackward0>)\n"
     ]
    },
    {
     "data": {
      "image/png": "[encoded data removed]",
      "text/plain": [
       "<Figure size 432x288 with 1 Axes>"
      ]
     },
     "metadata": {
      "needs_background": "light"
     },
     "output_type": "display_data"
    }
   ],
   "source": [
    "inputs = x\n",
    "outputs = y\n",
    "\n",
    "error_list = list()\n",
    "for i in range(2500):\n",
    "    prediction = net(inputs)\n",
    "    loss = loss_func(prediction, outputs) \n",
    "    \n",
    "    if i %10 == 0:\n",
    "        error_list.append(loss.detach().numpy())\n",
    "    optimizer.zero_grad()\n",
    "    loss.backward()        \n",
    "    optimizer.step()       \n",
    "\n",
    "    if i % 100 == 0:\n",
    "        print(\"epoch = \", i, \": error = \", loss)\n",
    "#     if i % 100 == 0:\n",
    "#         # plot and show learning process\n",
    "#         plt.cla()\n",
    "#         plt.scatter(x.data.numpy(), y.data.numpy())\n",
    "#         plt.plot(x.data.numpy(), prediction.data.numpy(), 'r.', lw=2)\n",
    "#         plt.text(0.5, 0, 'Loss=%.4f' % loss.data.numpy(), fontdict={'size': 10, 'color':  'red'})\n",
    "#         plt.pause(0.1)\n",
    "\n",
    "plt.show()\n",
    "\n",
    "# plot and show learning process\n",
    "plt.cla()\n",
    "plt.scatter(x.data.numpy(), y.data.numpy())\n",
    "plt.plot(x.data.numpy(), prediction.data.numpy(), 'r.', lw=2)\n",
    "plt.text(0.5, 0, 'Loss=%.4f' % loss.data.numpy(), fontdict={'size': 10, 'color':  'red'})\n",
    "plt.pause(0.1)"
   ]
  },
  {
   "cell_type": "code",
   "execution_count": 7,
   "id": "8da4cfe1",
   "metadata": {},
   "outputs": [
    {
     "data": {
      "text/plain": [
       "[<matplotlib.lines.Line2D at 0x7fc6b2fc4d90>]"
      ]
     },
     "execution_count": 7,
     "metadata": {},
     "output_type": "execute_result"
    },
    {
     "data": {
      "image/png": "[encoded data removed]",
      "text/plain": [
       "<Figure size 432x288 with 1 Axes>"
      ]
     },
     "metadata": {
      "needs_background": "light"
     },
     "output_type": "display_data"
    }
   ],
   "source": [
    "plt.plot(error_list)"
   ]
  },
  {
   "cell_type": "code",
   "execution_count": null,
   "id": "d1388f55",
   "metadata": {},
   "outputs": [],
   "source": []
  }
 ],
 "metadata": {
  "kernelspec": {
   "display_name": "Python 3 (ipykernel)",
   "language": "python",
   "name": "python3"
  },
  "language_info": {
   "codemirror_mode": {
    "name": "ipython",
    "version": 3
   },
   "file_extension": ".py",
   "mimetype": "text/x-python",
   "name": "python",
   "nbconvert_exporter": "python",
   "pygments_lexer": "ipython3",
   "version": "3.9.5"
  }
 },
 "nbformat": 4,
 "nbformat_minor": 5
}
